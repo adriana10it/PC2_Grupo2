{
 "cells": [
  {
   "cell_type": "code",
   "execution_count": null,
   "metadata": {},
   "outputs": [],
   "source": [
    "#link : https://rapidapi.com/rene-mdd/api/daily-atmosphere-carbon-dioxide-concentration\n",
    "\n",
    "import requests\n",
    "url = \"https://daily-atmosphere-carbon-dioxide-concentration.p.rapidapi.com/api/co2-api\"\n",
    "headers = {\n",
    "    'x-rapidapi-key': \"8025fa1aa9mshfc299430ca770b4p19964cjsn740cb4bef7bf\",\n",
    "    'x-rapidapi-host': \"daily-atmosphere-carbon-dioxide-concentration.p.rapidapi.com\"\n",
    "    }\n",
    "\n",
    "response = requests.request(\"GET\", url, headers=headers)\n",
    "print (type(response.json()))\n",
    "print(response.json())"
   ]
  }
 ],
 "metadata": {
  "kernelspec": {
   "display_name": "Python 3",
   "language": "python",
   "name": "python3"
  },
  "language_info": {
   "codemirror_mode": {
    "name": "ipython",
    "version": 3
   },
   "file_extension": ".py",
   "mimetype": "text/x-python",
   "name": "python",
   "nbconvert_exporter": "python",
   "pygments_lexer": "ipython3",
   "version": "3.8.5"
  }
 },
 "nbformat": 4,
 "nbformat_minor": 4
}
