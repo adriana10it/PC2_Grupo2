{
 "cells": [
  {
   "cell_type": "markdown",
   "metadata": {},
   "source": [
    "<h1><p style=\"color:purple 4;font-family:Lucida Fax\">Ejemplo con JSON </p></h1>"
   ]
  },
  {
   "cell_type": "code",
   "execution_count": 51,
   "metadata": {},
   "outputs": [
    {
     "name": "stdout",
     "output_type": "stream",
     "text": [
      "<class 'str'>\n"
     ]
    },
    {
     "data": {
      "text/plain": [
       "dict"
      ]
     },
     "execution_count": 51,
     "metadata": {},
     "output_type": "execute_result"
    }
   ],
   "source": [
    "import json # Importamos json\n",
    "\n",
    "datos = { \"Artículos Domésticos\":[ {\"Celulares\": [ {\"Marca\":\"Samsung Galaxy S21 Ultra 5G\",\"Cantidad\": 25},\n",
    "                                                 {\"Marca\": \"Samsung Galaxy A12\",\"Cantidad\":12},\n",
    "                                                 {\"Marca\": \"Samsung Galaxy A52\",\"Cantidad\":21},\n",
    "                                                 {\"Marca\": \"Huawei P Smart PRO\",\"Cantidad\":16},\n",
    "                                                 {\"Marca\": \"Huawei Mate 30 PRO:\",\"Cantidad\":14},\n",
    "                                                 {\"Marca\": \"Huawei Y7\",\"Cantidad\":16},\n",
    "                                                 {\"Marca\": \"Motorola g8 plus\",\"Cantidad\":15},\n",
    "                                                 {\"Marca\": \"Xiaomi Mi 10\",\"Cantidad\":14},\n",
    "                                                 {\"Marca\": \"Xiaomi Redmi Note 7\",\"Cantidad\":13} ] },\n",
    "                                 {\"Tablets\": [ {\"Marca\": \"Samsung Tab S7\",\"Cantidad\": 12},\n",
    "                                             {\"Marca\": \"Samsung Galaxy Tab A8\",\"Cantidad\": 10},\n",
    "                                             {\"Marca\": \"Huawei Media Pad T3 7 kids\",\"Cantidad\": 19},\n",
    "                                             {\"Marca\": \"Huawei MatePad T10\",\"Cantidad\": 13},\n",
    "                                             {\"Marca\": \"Huawei Matepad Pro\",\"Cantidad\": 15},\n",
    "                                             {\"Marca\": \"Lenovo Tablet Lenovo YOGA Smart\",\"Cantidad\": 13},\n",
    "                                             {\"Marca\": \"Lenovo Tablet Lenovo Tab M10\",\"Cantidad\": 19} ] },\n",
    "                                 {\"Laptops\": [ {\"Marca\": \"Lenovo\",\"Cantidad\": 17},\n",
    "                                             {\"Marca\": \"Huawei\",\"Cantidad\": 15},\n",
    "                                             {\"Marca\": \"HP\",\"Cantidad\": 30} ] },\n",
    "                                 {\"Refrigeradoras\": [ {\"Marca\": \"Samsung\",\"Cantidad\": 17},\n",
    "                                                    {\"Marca\": \"LG\",\"Cantidad\": 15},\n",
    "                                                    {\"Marca\": \"Indurama\",\"Cantidad\": 12},\n",
    "                                                    {\"Marca\": \"Mabe\",\"Cantidad\": 15} ] },\n",
    "                                 {\"Consola de Videojuego\": [ {\"Tipo\": \"PlayStation 2\",\"Cantidad\": 12},\n",
    "                                                           {\"Tipo\": \"Nintendo DS\",\"Cantidad\": 17},\n",
    "                                                           {\"Tipo\": \"Playstation 4\",\"Cantidad\": 26},\n",
    "                                                           {\"Tipo\": \"Playstation 5\",\"Cantidad\": 38} ] },\n",
    "                                 {\"Cámaras digitales\": [ {\"Marca\": \"CANON\",\"Cantidad\": 17},\n",
    "                                                       {\"Marca\": \"SONY\",\"Cantidad\": 13},\n",
    "                                                       {\"Marca\": \"CANON\",\"Cantidad\": 14} ] },\n",
    "                                 {\"Grabadora de Videos\": [ {\"Marca\": \"SONY\",\"Cantidad\": 15},\n",
    "                                                         {\"Marca\": \"CANON\",\"Cantidad\": 13}]}]}\n",
    "\n",
    "datos_string = json.dumps(datos)# codifica,convierte a json en una cadena de caracteres(string).\n",
    "print(type(datos_string))\n",
    "decoded = json.loads(datos_string) # decodifica, realiza un limpieza interna y devuelve como un diccionario(dict).\n",
    "type(decoded)"
   ]
  },
  {
   "cell_type": "code",
   "execution_count": 52,
   "metadata": {
    "scrolled": false
   },
   "outputs": [
    {
     "name": "stdout",
     "output_type": "stream",
     "text": [
      "9\n",
      "7\n",
      "3\n",
      "4\n",
      "4\n",
      "3\n",
      "2\n"
     ]
    }
   ],
   "source": [
    "# CANTIDAD DE CELULARES\n",
    "len_Cel = len(decoded[\"Artículos Domésticos\"][0]['Celulares'])\n",
    "print(len_Cel)\n",
    "\n",
    "# CANTIDAD DE TABLET\n",
    "len_Tab = len(decoded[\"Artículos Domésticos\"][1][\"Tablets\"])\n",
    "print(len_Tab)\n",
    "\n",
    "# CANTIDAD DE LAPTOPS\n",
    "len_Lap = len(decoded[\"Artículos Domésticos\"][2][\"Laptops\"])\n",
    "print(len_Lap)\n",
    "\n",
    "# CANTIDAD DE REFRIGERADORAS\n",
    "len_Refri = len(decoded[\"Artículos Domésticos\"][3][\"Refrigeradoras\"])\n",
    "print(len_Refri)\n",
    "\n",
    "# CANTIDAD DE CONSOLA DE VIDEOJUEGOS\n",
    "len_VidJue = len(decoded[\"Artículos Domésticos\"][4][\"Consola de Videojuego\"])\n",
    "print(len_VidJue)\n",
    "\n",
    "# CANTIDAD DE CÁMARAS DIGITALES\n",
    "len_Cam = len(decoded[\"Artículos Domésticos\"][5][\"Cámaras digitales\"])\n",
    "print(len_Cam)\n",
    "\n",
    "# CANTIDAD DE GRABADORA DE VIDEOS\n",
    "len_Grab= len(decoded[\"Artículos Domésticos\"][6][\"Grabadora de Videos\"])\n",
    "print(len_Grab)"
   ]
  },
  {
   "cell_type": "code",
   "execution_count": 53,
   "metadata": {
    "scrolled": true
   },
   "outputs": [
    {
     "name": "stdout",
     "output_type": "stream",
     "text": [
      "Tenemos 25 celulares Samsung Galaxy S21 Ultra 5G\n",
      "Tenemos 12 celulares Samsung Galaxy A12\n",
      "Tenemos 21 celulares Samsung Galaxy A52\n",
      "Tenemos 16 celulares Huawei P Smart PRO\n",
      "Tenemos 14 celulares Huawei Mate 30 PRO:\n",
      "Tenemos 16 celulares Huawei Y7\n",
      "Tenemos 15 celulares Motorola g8 plus\n",
      "Tenemos 14 celulares Xiaomi Mi 10\n",
      "Tenemos 13 celulares Xiaomi Redmi Note 7\n"
     ]
    }
   ],
   "source": [
    "for tipo in range(0,len_Cel):\n",
    "    print (\"Tenemos \"+ str(decoded[\"Artículos Domésticos\"][0][\"Celulares\"][tipo][\"Cantidad\"])+\n",
    "       \" celulares \" + str(decoded[\"Artículos Domésticos\"][0][\"Celulares\"][tipo][\"Marca\"]))\n"
   ]
  },
  {
   "cell_type": "code",
   "execution_count": 54,
   "metadata": {},
   "outputs": [
    {
     "name": "stdout",
     "output_type": "stream",
     "text": [
      "Tenemos 12 tablets Samsung Tab S7\n",
      "Tenemos 10 tablets Samsung Galaxy Tab A8\n",
      "Tenemos 19 tablets Huawei Media Pad T3 7 kids\n",
      "Tenemos 13 tablets Huawei MatePad T10\n",
      "Tenemos 15 tablets Huawei Matepad Pro\n",
      "Tenemos 13 tablets Lenovo Tablet Lenovo YOGA Smart\n",
      "Tenemos 19 tablets Lenovo Tablet Lenovo Tab M10\n"
     ]
    }
   ],
   "source": [
    "for tipo in range(0,len_Tab):\n",
    "    print (\"Tenemos \"+ str(decoded[\"Artículos Domésticos\"][1][\"Tablets\"][tipo][\"Cantidad\"])+\n",
    "       \" tablets \" + str(decoded[\"Artículos Domésticos\"][1][\"Tablets\"][tipo][\"Marca\"]))"
   ]
  },
  {
   "cell_type": "code",
   "execution_count": 55,
   "metadata": {},
   "outputs": [
    {
     "name": "stdout",
     "output_type": "stream",
     "text": [
      "Tenemos 17 laptops Lenovo\n",
      "Tenemos 15 laptops Huawei\n",
      "Tenemos 30 laptops HP\n"
     ]
    }
   ],
   "source": [
    "for tipo in range(0,len_Lap):\n",
    "    print (\"Tenemos \"+ str(decoded[\"Artículos Domésticos\"][2][\"Laptops\"][tipo][\"Cantidad\"])+\n",
    "       \" laptops \" + str(decoded[\"Artículos Domésticos\"][2][\"Laptops\"][tipo][\"Marca\"]))"
   ]
  },
  {
   "cell_type": "code",
   "execution_count": 56,
   "metadata": {},
   "outputs": [
    {
     "name": "stdout",
     "output_type": "stream",
     "text": [
      "Tenemos 17 refrigeradoras Samsung\n",
      "Tenemos 15 refrigeradoras LG\n",
      "Tenemos 12 refrigeradoras Indurama\n",
      "Tenemos 15 refrigeradoras Mabe\n"
     ]
    }
   ],
   "source": [
    "for tipo in range(0,len_Refri):\n",
    "    print (\"Tenemos \"+ str(decoded[\"Artículos Domésticos\"][3][\"Refrigeradoras\"][tipo][\"Cantidad\"])+\n",
    "       \" refrigeradoras \" + str(decoded[\"Artículos Domésticos\"][3][\"Refrigeradoras\"][tipo][\"Marca\"]))"
   ]
  },
  {
   "cell_type": "code",
   "execution_count": 57,
   "metadata": {},
   "outputs": [
    {
     "name": "stdout",
     "output_type": "stream",
     "text": [
      "Tenemos 12 Consolas de Videjuegos PlayStation 2\n",
      "Tenemos 17 Consolas de Videjuegos Nintendo DS\n",
      "Tenemos 26 Consolas de Videjuegos Playstation 4\n",
      "Tenemos 38 Consolas de Videjuegos Playstation 5\n"
     ]
    }
   ],
   "source": [
    "for tipo in range(0,len_VidJue):\n",
    "    print (\"Tenemos \"+ str(decoded[\"Artículos Domésticos\"][4][\"Consola de Videojuego\"][tipo][\"Cantidad\"])+\n",
    "       \" Consolas de Videjuegos \" + str(decoded[\"Artículos Domésticos\"][4][\"Consola de Videojuego\"][tipo][\"Tipo\"]))"
   ]
  },
  {
   "cell_type": "code",
   "execution_count": 58,
   "metadata": {},
   "outputs": [
    {
     "name": "stdout",
     "output_type": "stream",
     "text": [
      "Tenemos 17 cámaras digitales CANON\n",
      "Tenemos 13 cámaras digitales SONY\n",
      "Tenemos 14 cámaras digitales CANON\n"
     ]
    }
   ],
   "source": [
    "for tipo in range(0,len_Cam):\n",
    "    print (\"Tenemos \"+ str(decoded[\"Artículos Domésticos\"][5][\"Cámaras digitales\"][tipo][\"Cantidad\"])+\n",
    "       \" cámaras digitales \" + str(decoded[\"Artículos Domésticos\"][5][\"Cámaras digitales\"][tipo][\"Marca\"]))"
   ]
  },
  {
   "cell_type": "code",
   "execution_count": 59,
   "metadata": {},
   "outputs": [
    {
     "name": "stdout",
     "output_type": "stream",
     "text": [
      "Tenemos 15 grabadoras de videos SONY\n",
      "Tenemos 13 grabadoras de videos CANON\n"
     ]
    }
   ],
   "source": [
    "for tipo in range(0,len_Grab):\n",
    "    print (\"Tenemos \"+ str(decoded[\"Artículos Domésticos\"][6][\"Grabadora de Videos\"][tipo][\"Cantidad\"])+\n",
    "       \" grabadoras de videos \" + str(decoded[\"Artículos Domésticos\"][6][\"Grabadora de Videos\"][tipo][\"Marca\"]))"
   ]
  }
 ],
 "metadata": {
  "kernelspec": {
   "display_name": "Python 3",
   "language": "python",
   "name": "python3"
  },
  "language_info": {
   "codemirror_mode": {
    "name": "ipython",
    "version": 3
   },
   "file_extension": ".py",
   "mimetype": "text/x-python",
   "name": "python",
   "nbconvert_exporter": "python",
   "pygments_lexer": "ipython3",
   "version": "3.7.6"
  }
 },
 "nbformat": 4,
 "nbformat_minor": 4
}
