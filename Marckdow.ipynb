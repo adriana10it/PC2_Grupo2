{
 "cells": [
  {
   "attachments": {},
   "cell_type": "markdown",
   "metadata": {},
   "source": [
    "## <p style=\"color:Magenta;\">  DISTRIBUCIONES DISCRETAS </p> \n",
    "\n",
    "Son las funciones de probabilidad asociadas a variables aleatorias discretas, que se generan mediante procesos de conteo sobre las veces que se repite un suceso.\n",
    "principales distribuciones discretas  :\n",
    "\n",
    "#### <u>Distribucion de poisson</u>\n",
    "\n",
    "Una variable aleatoria $x$ sigue una distribución de Poisson si puede tomar valores enteros $ 0,1,2,3,3,,, n$ con probabilidades:\n",
    "\n",
    " $$P\\left( x \\right) = \\frac{{e^{ - \\lambda } \\lambda ^x }}{{x!}}$$\n",
    " \n",
    "1. En esta distribución hay que observar:\n",
    "\n",
    "    a)Depende de un solo parámetro.\n",
    "\n",
    "    b) Su media, varianza son \n",
    "    $$ \t\\mu  = \\lambda , \t\\theta^2 = \\lambda $$\n",
    "    \n",
    "\n",
    "    c) La distribución de Poisson presenta una ligera asimetría hacia la izquierda. Cuando n tiende hacia infinito\n",
    "    tiende a ser simétrica (distribución normal).\n",
    "    \n",
    "    \n",
    "$$ GRAFICA DE POISSON$$ \n",
    "    \n",
    " ![GRAFICA DE LA DISTRIBUCION DE POISSON](https://upload.wikimedia.org/wikipedia/commons/thumb/1/16/Poisson_pmf.svg/325px-Poisson_pmf.svg.png)\n",
    "    \n",
    "\n",
    "#### <u>Distribucion Binomial </u>\n",
    "\n",
    "Supongamos un experimento aleatorio S y consideremos asociado con él un suceso A de probabilidad p y sea A* el suceso contrario, cuya probabilidad será $ q=1-p $. Para distinguirlos con mayor facilidad, al suceso A lo llamaremos éxito, y al suceso A* fracaso.\n",
    "\n",
    "Repitamos el experimento en las mismas condiciones n veces y supongamos que:\n",
    "\n",
    "    a) El resultado de cada ensayo es independiente de los resultados anteriores.\n",
    "\n",
    "    b) La probabilidad de A permanece constante y no varía de una prueba a otra..\n",
    "\n",
    "Todo experimento que tenga esta características diremos que sigue el modelo de la distribución binomial.\n",
    "\n",
    "A la variable $X$ que expresa el número de éxitos obtenidos en las $  n $ pruebas del experimento aleatorio la llamaremos variable aleatoria binomial. Representaremos por $ B(n, p) $ a la variable de la distribución, siendo $n y p$ los parámetros.\n",
    "\n",
    "La variable aleatoria que expresa el número de éxitos en  $n$ pruebas, es una variable aleatoria discreta cuyos valores varían de $ 0, 1, 2, …, n $  Y las probabilidades con que toman dichos valores se calculan de la siguiente forma: \n",
    "\n",
    "\n",
    "\n",
    "\n",
    "$$ y = \\frac{{n!}}{{k!\\left( {n - k} \\right)!}}p^k q^{n - k}  = \\left( {\\begin{array}{*{20}c}\n",
    "   n  \\\\\n",
    "   k  \\\\\n",
    "\\end{array}} \\right)p^k q^{n - k}$$\n",
    "\n",
    "\n",
    "\n"
   ]
  },
  {
   "cell_type": "code",
   "execution_count": null,
   "metadata": {},
   "outputs": [],
   "source": []
  }
 ],
 "metadata": {
  "kernelspec": {
   "display_name": "Python 3",
   "language": "python",
   "name": "python3"
  },
  "language_info": {
   "codemirror_mode": {
    "name": "ipython",
    "version": 3
   },
   "file_extension": ".py",
   "mimetype": "text/x-python",
   "name": "python",
   "nbconvert_exporter": "python",
   "pygments_lexer": "ipython3",
   "version": "3.8.5"
  }
 },
 "nbformat": 4,
 "nbformat_minor": 4
}
