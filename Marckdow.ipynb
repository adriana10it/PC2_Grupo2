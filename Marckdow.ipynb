{
 "cells": [
  {
   "cell_type": "markdown",
   "metadata": {},
   "source": [
    "##     <p style=\"color:Magenta;\">  DISTRIBUCIONES CONTINUAS Y DISCRETAS </p>\n",
    "\n"
   ]
  },
  {
   "attachments": {},
   "cell_type": "markdown",
   "metadata": {},
   "source": [
    "## <p style=\"color:Magenta;\">  DISTRIBUCIONES DISCRETAS </p>\n",
    "\n",
    "Son las funciones de probabilidad asociadas a variables aleatorias discretas, que se generan mediante procesos de conteo sobre las veces que se repite un suceso.\n",
    "principales distribuciones discretas  :\n",
    "\n",
    "#### <u>Distribucion de poisson</u>\n",
    "\n",
    "Una variable aleatoria $x$ sigue una distribución de Poisson si puede tomar valores enteros $ 0,1,2,3,3,,, n$ con probabilidades:\n",
    "\n",
    " $$P\\left( x \\right) = \\frac{{e^{ - \\lambda } \\lambda ^x }}{{x!}}$$\n",
    " \n",
    "1. En esta distribución hay que observar:\n",
    "\n",
    "    a)Depende de un solo parámetro.\n",
    "\n",
    "    b) Su media, varianza son \n",
    "    $$ \t\\mu  = \\lambda , \t\\theta^2 = \\lambda $$\n",
    "    c) En general si $ n>50 y p<0.1 ó n.p<5 $ la distribución de Poisson es una buena aproximación de la Binomial.\n",
    "\n",
    "    d) La distribución de Poisson presenta una ligera asimetría hacia la izquierda. Cuando n tiende hacia infinito\n",
    "    tiende a ser simétrica (distribución normal).\n",
    "    \n",
    "    \n"
   ]
  },
  {
   "cell_type": "code",
   "execution_count": null,
   "metadata": {},
   "outputs": [],
   "source": []
  }
 ],
 "metadata": {
  "kernelspec": {
   "display_name": "Python 3",
   "language": "python",
   "name": "python3"
  },
  "language_info": {
   "codemirror_mode": {
    "name": "ipython",
    "version": 3
   },
   "file_extension": ".py",
   "mimetype": "text/x-python",
   "name": "python",
   "nbconvert_exporter": "python",
   "pygments_lexer": "ipython3",
   "version": "3.8.5"
  }
 },
 "nbformat": 4,
 "nbformat_minor": 4
}
